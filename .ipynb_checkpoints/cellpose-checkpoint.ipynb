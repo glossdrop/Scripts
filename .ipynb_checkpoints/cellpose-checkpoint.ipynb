{
 "cells": [
  {
   "cell_type": "code",
   "execution_count": 1,
   "metadata": {},
   "outputs": [
    {
     "name": "stdout",
     "output_type": "stream",
     "text": [
      ">>>> using GPU\n"
     ]
    }
   ],
   "source": [
    "import numpy as np\n",
    "import matplotlib.pyplot as plt\n",
    "import skimage.io\n",
    "from cellpose import models,utils,io\n",
    "import glob, os\n",
    "from czifile import CziFile\n",
    "\n",
    "# model_type='cyto' or model_type='nuclei'\n",
    "model = models.Cellpose(model_type='cyto', gpu=True)"
   ]
  },
  {
   "cell_type": "code",
   "execution_count": 6,
   "metadata": {},
   "outputs": [],
   "source": [
    "# list of files\n",
    "# direc = 'C://Users/gloss/Desktop'\n",
    "# direc = 'D:/INMED/CFOS/Images/TEST'\n",
    "direc = 'C:/Users/cavalieri/Desktop/cellpose_test'\n",
    "os.chdir(direc)\n",
    "files = glob.glob('*.czi')\n",
    "\n",
    "imgs = [None] * len(files)\n",
    "for ind,f in enumerate(files):\n",
    "    with CziFile(f) as czi:\n",
    "        image = czi.asarray()\n",
    "    imgs[ind] = np.squeeze(image)\n",
    "    \n",
    "nimg = len(imgs)\n",
    "\n",
    "# define CHANNELS to run segementation on\n",
    "# grayscale=0, R=1, G=2, B=3\n",
    "# channels = [cytoplasm, nucleus]\n",
    "# if NUCLEUS channel does not exist, set the second channel to 0\n",
    "channels = [0,0]\n",
    "# IF ALL YOUR IMAGES ARE THE SAME TYPE, you can give a list with 2 elements\n",
    "# channels = [0,0] # IF YOU HAVE GRAYSCALE\n",
    "# channels = [2,3] # IF YOU HAVE G=cytoplasm and B=nucleus\n",
    "# channels = [2,1] # IF YOU HAVE G=cytoplasm and R=nucleus\n",
    "\n",
    "# if diameter is set to None, the size of the cells is estimated on a per image basis\n",
    "# you can set the average cell `diameter` in pixels yourself (recommended)\n",
    "# diameter can be a list or a single number for all images\n",
    "\n",
    "for ind, img in enumerate(imgs):\n",
    "    imgs_tdt[ind] = img[1,:,:,:] #select one channel"
   ]
  },
  {
   "cell_type": "code",
   "execution_count": null,
   "metadata": {},
   "outputs": [
    {
     "name": "stdout",
     "output_type": "stream",
     "text": [
      "multi-stack tiff read in as having 7 planes 1 channels\n",
      "processing 3 image(s)\n"
     ]
    },
    {
     "name": "stderr",
     "output_type": "stream",
     "text": [
      "  0%|                                                                                            | 0/3 [00:00<?, ?it/s]\n",
      "  0%|                                                                                            | 0/7 [00:00<?, ?it/s]\u001b[A"
     ]
    },
    {
     "name": "stdout",
     "output_type": "stream",
     "text": [
      "\n",
      " running XY (512, 512) \n",
      "\n",
      "\n"
     ]
    }
   ],
   "source": [
    "diam_est = 15\n",
    "masks, flows, styles, diams = model.eval(imgs_tdt, diameter=diam_est, channels=channels, do_3D=True)"
   ]
  },
  {
   "cell_type": "code",
   "execution_count": 36,
   "metadata": {},
   "outputs": [
    {
     "name": "stdout",
     "output_type": "stream",
     "text": [
      "7\n",
      "7\n",
      "[2, 3]\n",
      "GroupD-H1-ventr-s1-dist.czi\n"
     ]
    },
    {
     "ename": "ValueError",
     "evalue": "all the input arrays must have same number of dimensions",
     "output_type": "error",
     "traceback": [
      "\u001b[1;31m---------------------------------------------------------------------------\u001b[0m",
      "\u001b[1;31mValueError\u001b[0m                                Traceback (most recent call last)",
      "\u001b[1;32m<ipython-input-36-62ab7e2c21d4>\u001b[0m in \u001b[0;36m<module>\u001b[1;34m\u001b[0m\n\u001b[0;32m      7\u001b[0m \u001b[1;31m# os.chdir(save_direc)\u001b[0m\u001b[1;33m\u001b[0m\u001b[1;33m\u001b[0m\u001b[0m\n\u001b[0;32m      8\u001b[0m \u001b[1;33m\u001b[0m\u001b[0m\n\u001b[1;32m----> 9\u001b[1;33m \u001b[0mio\u001b[0m\u001b[1;33m.\u001b[0m\u001b[0mmasks_flows_to_seg\u001b[0m\u001b[1;33m(\u001b[0m\u001b[0mchan_to_analyse\u001b[0m\u001b[1;33m,\u001b[0m \u001b[0mmasks\u001b[0m\u001b[1;33m,\u001b[0m \u001b[0mflows\u001b[0m\u001b[1;33m,\u001b[0m \u001b[0mdiams\u001b[0m\u001b[1;33m,\u001b[0m \u001b[0mfiles\u001b[0m\u001b[1;33m[\u001b[0m\u001b[0mind\u001b[0m\u001b[1;33m]\u001b[0m\u001b[1;33m,\u001b[0m \u001b[0mchannels\u001b[0m\u001b[1;33m=\u001b[0m\u001b[1;36m0\u001b[0m\u001b[1;33m)\u001b[0m\u001b[1;33m\u001b[0m\u001b[0m\n\u001b[0m\u001b[0;32m     10\u001b[0m \u001b[1;33m\u001b[0m\u001b[0m\n\u001b[0;32m     11\u001b[0m \u001b[1;31m# io.save_to_png(chan_to_analyse, masks, flows[3], files[ind])\u001b[0m\u001b[1;33m\u001b[0m\u001b[1;33m\u001b[0m\u001b[0m\n",
      "\u001b[1;32m~\\Anaconda3\\envs\\cellpose\\lib\\site-packages\\cellpose\\io.py\u001b[0m in \u001b[0;36mmasks_flows_to_seg\u001b[1;34m(images, masks, flows, diams, file_names, channels)\u001b[0m\n",
      "\u001b[1;31mValueError\u001b[0m: all the input arrays must have same number of dimensions"
     ]
    }
   ],
   "source": [
    "print(len(flows[0]))\n",
    "print(len(masks))\n",
    "print(channels)\n",
    "\n",
    "print(files[ind])\n",
    "# save_direc = 'C://Users/gloss/Desktop/TEST'\n",
    "# os.chdir(save_direc)\n",
    "\n",
    "io.masks_flows_to_seg(chan_to_analyse, masks, flows, diams, files[ind], channels=0)\n",
    "\n",
    "# io.save_to_png(chan_to_analyse, masks, flows[3], files[ind])"
   ]
  },
  {
   "cell_type": "code",
   "execution_count": 40,
   "metadata": {},
   "outputs": [
    {
     "ename": "ValueError",
     "evalue": "all the input arrays must have same number of dimensions",
     "output_type": "error",
     "traceback": [
      "\u001b[1;31m---------------------------------------------------------------------------\u001b[0m",
      "\u001b[1;31mValueError\u001b[0m                                Traceback (most recent call last)",
      "\u001b[1;32m<ipython-input-40-a25b39e4eb2c>\u001b[0m in \u001b[0;36m<module>\u001b[1;34m\u001b[0m\n\u001b[0;32m      1\u001b[0m \u001b[1;32mfrom\u001b[0m \u001b[0mcellpose\u001b[0m \u001b[1;32mimport\u001b[0m \u001b[0mio\u001b[0m\u001b[1;33m\u001b[0m\u001b[0m\n\u001b[1;32m----> 2\u001b[1;33m \u001b[0mio\u001b[0m\u001b[1;33m.\u001b[0m\u001b[0mmasks_flows_to_seg\u001b[0m\u001b[1;33m(\u001b[0m\u001b[0mchan_to_analyse\u001b[0m\u001b[1;33m,\u001b[0m \u001b[0mmasks\u001b[0m\u001b[1;33m,\u001b[0m \u001b[0mflows\u001b[0m\u001b[1;33m[\u001b[0m\u001b[1;36m0\u001b[0m\u001b[1;33m]\u001b[0m\u001b[1;33m,\u001b[0m \u001b[0mdiams\u001b[0m\u001b[1;33m,\u001b[0m \u001b[0mfiles\u001b[0m\u001b[1;33m[\u001b[0m\u001b[0mind\u001b[0m\u001b[1;33m]\u001b[0m\u001b[1;33m,\u001b[0m \u001b[0mchannels\u001b[0m\u001b[1;33m=\u001b[0m\u001b[1;36m0\u001b[0m\u001b[1;33m)\u001b[0m\u001b[1;33m\u001b[0m\u001b[0m\n\u001b[0m",
      "\u001b[1;32m~\\Anaconda3\\envs\\cellpose\\lib\\site-packages\\cellpose\\io.py\u001b[0m in \u001b[0;36mmasks_flows_to_seg\u001b[1;34m(images, masks, flows, diams, file_names, channels)\u001b[0m\n",
      "\u001b[1;31mValueError\u001b[0m: all the input arrays must have same number of dimensions"
     ]
    }
   ],
   "source": [
    "from cellpose import io\n",
    "io.masks_flows_to_seg(chan_to_analyse, masks, flows[0], diams, files[ind], channels=0)\n"
   ]
  },
  {
   "cell_type": "code",
   "execution_count": 47,
   "metadata": {},
   "outputs": [
    {
     "name": "stdout",
     "output_type": "stream",
     "text": [
      "Obtaining file:///C:/Users/cavalieri/Documents/INMED/Code_GITHUB/cellpose\n",
      "Requirement already satisfied: numpy in c:\\users\\cavalieri\\anaconda3\\envs\\cellpose\\lib\\site-packages (from cellpose==0.0.2.8) (1.16.4)\n",
      "Requirement already satisfied: scipy in c:\\users\\cavalieri\\appdata\\roaming\\python\\python37\\site-packages (from cellpose==0.0.2.8) (1.4.1)\n",
      "Requirement already satisfied: natsort in c:\\users\\cavalieri\\anaconda3\\envs\\cellpose\\lib\\site-packages (from cellpose==0.0.2.8) (7.0.1)\n",
      "Requirement already satisfied: Pillow<=7.0.0 in c:\\users\\cavalieri\\appdata\\roaming\\python\\python37\\site-packages (from cellpose==0.0.2.8) (7.0.0)\n",
      "Requirement already satisfied: tqdm in c:\\users\\cavalieri\\anaconda3\\envs\\cellpose\\lib\\site-packages (from cellpose==0.0.2.8) (4.46.0)\n",
      "Requirement already satisfied: numba in c:\\users\\cavalieri\\anaconda3\\envs\\cellpose\\lib\\site-packages (from cellpose==0.0.2.8) (0.49.1)\n",
      "Requirement already satisfied: scikit-image in c:\\users\\cavalieri\\appdata\\roaming\\python\\python37\\site-packages (from cellpose==0.0.2.8) (0.16.2)\n",
      "Requirement already satisfied: matplotlib in c:\\users\\cavalieri\\appdata\\roaming\\python\\python37\\site-packages (from cellpose==0.0.2.8) (3.2.1)\n",
      "Requirement already satisfied: mxnet_mkl in c:\\users\\cavalieri\\anaconda3\\envs\\cellpose\\lib\\site-packages (from cellpose==0.0.2.8) (1.5.0)\n",
      "Requirement already satisfied: opencv_python in c:\\users\\cavalieri\\anaconda3\\envs\\cellpose\\lib\\site-packages (from cellpose==0.0.2.8) (4.2.0.34)\n",
      "Requirement already satisfied: llvmlite<=0.33.0.dev0,>=0.31.0.dev0 in c:\\users\\cavalieri\\anaconda3\\envs\\cellpose\\lib\\site-packages (from numba->cellpose==0.0.2.8) (0.32.1)\n",
      "Requirement already satisfied: setuptools in c:\\users\\cavalieri\\anaconda3\\envs\\cellpose\\lib\\site-packages (from numba->cellpose==0.0.2.8) (46.2.0.post20200511)\n",
      "Requirement already satisfied: imageio>=2.3.0 in c:\\users\\cavalieri\\appdata\\roaming\\python\\python37\\site-packages (from scikit-image->cellpose==0.0.2.8) (2.8.0)\n",
      "Requirement already satisfied: networkx>=2.0 in c:\\users\\cavalieri\\appdata\\roaming\\python\\python37\\site-packages (from scikit-image->cellpose==0.0.2.8) (2.4)\n",
      "Requirement already satisfied: PyWavelets>=0.4.0 in c:\\users\\cavalieri\\appdata\\roaming\\python\\python37\\site-packages (from scikit-image->cellpose==0.0.2.8) (1.1.1)\n",
      "Requirement already satisfied: kiwisolver>=1.0.1 in c:\\users\\cavalieri\\appdata\\roaming\\python\\python37\\site-packages (from matplotlib->cellpose==0.0.2.8) (1.1.0)\n",
      "Requirement already satisfied: python-dateutil>=2.1 in c:\\users\\cavalieri\\appdata\\roaming\\python\\python37\\site-packages (from matplotlib->cellpose==0.0.2.8) (2.8.1)\n",
      "Requirement already satisfied: pyparsing!=2.0.4,!=2.1.2,!=2.1.6,>=2.0.1 in c:\\users\\cavalieri\\appdata\\roaming\\python\\python37\\site-packages (from matplotlib->cellpose==0.0.2.8) (2.4.6)\n",
      "Requirement already satisfied: cycler>=0.10 in c:\\users\\cavalieri\\appdata\\roaming\\python\\python37\\site-packages (from matplotlib->cellpose==0.0.2.8) (0.10.0)\n",
      "Requirement already satisfied: graphviz<0.9.0,>=0.8.1 in c:\\users\\cavalieri\\anaconda3\\envs\\cellpose\\lib\\site-packages (from mxnet_mkl->cellpose==0.0.2.8) (0.8.4)\n",
      "Requirement already satisfied: requests<2.19.0,>=2.18.4 in c:\\users\\cavalieri\\anaconda3\\envs\\cellpose\\lib\\site-packages (from mxnet_mkl->cellpose==0.0.2.8) (2.18.4)\n",
      "Requirement already satisfied: decorator>=4.3.0 in c:\\users\\cavalieri\\appdata\\roaming\\python\\python37\\site-packages (from networkx>=2.0->scikit-image->cellpose==0.0.2.8) (4.4.2)\n",
      "Requirement already satisfied: six>=1.5 in c:\\users\\cavalieri\\appdata\\roaming\\python\\python37\\site-packages (from python-dateutil>=2.1->matplotlib->cellpose==0.0.2.8) (1.14.0)\n",
      "Requirement already satisfied: idna<2.7,>=2.5 in c:\\users\\cavalieri\\anaconda3\\envs\\cellpose\\lib\\site-packages (from requests<2.19.0,>=2.18.4->mxnet_mkl->cellpose==0.0.2.8) (2.6)\n",
      "Requirement already satisfied: urllib3<1.23,>=1.21.1 in c:\\users\\cavalieri\\anaconda3\\envs\\cellpose\\lib\\site-packages (from requests<2.19.0,>=2.18.4->mxnet_mkl->cellpose==0.0.2.8) (1.22)\n",
      "Requirement already satisfied: certifi>=2017.4.17 in c:\\users\\cavalieri\\anaconda3\\envs\\cellpose\\lib\\site-packages (from requests<2.19.0,>=2.18.4->mxnet_mkl->cellpose==0.0.2.8) (2020.6.20)\n",
      "Requirement already satisfied: chardet<3.1.0,>=3.0.2 in c:\\users\\cavalieri\\anaconda3\\envs\\cellpose\\lib\\site-packages (from requests<2.19.0,>=2.18.4->mxnet_mkl->cellpose==0.0.2.8) (3.0.4)\n",
      "Installing collected packages: cellpose\n",
      "  Attempting uninstall: cellpose\n",
      "    Found existing installation: cellpose 0.0.2.8\n",
      "    Uninstalling cellpose-0.0.2.8:\n",
      "      Successfully uninstalled cellpose-0.0.2.8\n",
      "  Running setup.py develop for cellpose\n",
      "Successfully installed cellpose\n"
     ]
    }
   ],
   "source": [
    "!pip install -e C:\\Users\\cavalieri\\Documents\\INMED\\Code_GITHUB\\cellpose"
   ]
  },
  {
   "cell_type": "code",
   "execution_count": null,
   "metadata": {},
   "outputs": [],
   "source": []
  }
 ],
 "metadata": {
  "kernelspec": {
   "display_name": "Python 3",
   "language": "python",
   "name": "python3"
  },
  "language_info": {
   "codemirror_mode": {
    "name": "ipython",
    "version": 3
   },
   "file_extension": ".py",
   "mimetype": "text/x-python",
   "name": "python",
   "nbconvert_exporter": "python",
   "pygments_lexer": "ipython3",
   "version": "3.7.0"
  }
 },
 "nbformat": 4,
 "nbformat_minor": 4
}
