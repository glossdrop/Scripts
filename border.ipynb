{
 "cells": [
  {
   "cell_type": "code",
   "execution_count": null,
   "metadata": {},
   "outputs": [],
   "source": [
    "import numpy as np\n",
    "import matplotlib.pyplot as plt\n",
    "import skimage.io, glob, os\n",
    "from czifile import CziFile\n",
    "\n",
    "# import matplotlib\n",
    "# Agg backend runs without a display\n",
    "# matplotlib.use('tkagg')\n",
    "\n",
    "direc = 'D:/INMED/CFOS/Images/TEST'\n",
    "os.chdir(direc)\n",
    "files = glob.glob('*.czi')\n"
   ]
  },
  {
   "cell_type": "code",
   "execution_count": 21,
   "metadata": {},
   "outputs": [
    {
     "data": {
      "text/plain": [
       "6"
      ]
     },
     "execution_count": 21,
     "metadata": {},
     "output_type": "execute_result"
    }
   ],
   "source": [
    "imgs = [None] * len(files)\n",
    "for ind,f in enumerate(files):\n",
    "    with CziFile(f) as czi:\n",
    "        image = czi.asarray()\n",
    "    imgs[ind] = np.squeeze(image)\n",
    "len(files)        "
   ]
  },
  {
   "cell_type": "code",
   "execution_count": 28,
   "metadata": {},
   "outputs": [],
   "source": [
    "for ind,img in enumerate(files):\n",
    "    img_dapi = imgs[ind][2,:,:,:]\n",
    "    img_tdt = imgs[ind][0,:,:,:]\n",
    "    img_cfoso = imgs[ind][1,:,:,:]\n",
    "\n",
    "    %matplotlib qt\n",
    "    \n",
    "    plt.figure(ind)\n",
    "    plt.imshow(np.mean(img_dapi,0))\n",
    "    points = plt.ginput(3)\n",
    "    # plt.close\n",
    "\n",
    "    # def func(x):\n",
    "    #     x^2 * a + x * b + c = 0\n",
    "    #     return a,b,c\n",
    "    points = np.array(points)\n",
    "    points\n",
    "\n",
    "    x = points[:,0]\n",
    "    y = points[:,1]\n",
    "\n",
    "    z = np.polyfit(x, y, 2)\n",
    "    f = np.poly1d(z)\n",
    "\n",
    "    x_new = np.linspace(x[0], x[-1], 50)\n",
    "    x_new = np.linspace(0, 512, 50)\n",
    "    # extr_new\n",
    "    y_new = f(x_new)\n",
    "\n",
    "    # plt.imshow(np.mean(img_dapi,0))\n",
    "    plt.plot(x,y,'o', x_new, y_new)\n",
    "    plt.xlim([0, 512])\n",
    "    plt.ylim([0, 512])\n",
    "\n",
    "    plt.gca().invert_yaxis()\n",
    "    # plt.gca().invert_xaxis()\n",
    "\n",
    "    plt.show()"
   ]
  },
  {
   "cell_type": "code",
   "execution_count": 25,
   "metadata": {},
   "outputs": [
    {
     "data": {
      "text/plain": [
       "array([ 6.48454981e-04, -3.69199506e-01,  2.79476786e+02])"
      ]
     },
     "execution_count": 25,
     "metadata": {},
     "output_type": "execute_result"
    }
   ],
   "source": [
    "z"
   ]
  }
 ],
 "metadata": {
  "kernelspec": {
   "display_name": "Python 3",
   "language": "python",
   "name": "python3"
  },
  "language_info": {
   "codemirror_mode": {
    "name": "ipython",
    "version": 3
   },
   "file_extension": ".py",
   "mimetype": "text/x-python",
   "name": "python",
   "nbconvert_exporter": "python",
   "pygments_lexer": "ipython3",
   "version": "3.7.6"
  }
 },
 "nbformat": 4,
 "nbformat_minor": 4
}
